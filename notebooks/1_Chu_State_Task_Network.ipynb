{
 "cells": [
  {
   "cell_type": "markdown",
   "metadata": {
    "deletable": true,
    "editable": true
   },
   "source": [
    "# Chu State Task Network\n",
    "\n",
    "The State-Task Network (STN) is an approach to modeling multipurpose batch process for the purpose of short term scheduling. It was first developed by Kondili, et al., in 1993, and subsequently developed and extended by others. \n",
    "\n",
    "### References\n",
    "\n",
    "Chu, Y., Wassick, J. M., & You, F. (2013). Efficient scheduling method of complex batch processes with general network structure via agent‐based modeling. AIChE Journal, 59(8), 2884-2906."
   ]
  },
  {
   "cell_type": "markdown",
   "metadata": {
    "deletable": true,
    "editable": true
   },
   "source": [
    "## Example (Chu, et al., 2013)\n",
    "\n",
    "![Screen%20Shot%202017-09-21%20at%2012.23.00%20PM.png](attachment:Screen%20Shot%202017-09-21%20at%2012.23.00%20PM.png)"
   ]
  },
  {
   "cell_type": "code",
   "execution_count": 1,
   "metadata": {
    "collapsed": true,
    "deletable": true,
    "editable": true
   },
   "outputs": [],
   "source": [
    "import numpy as np\n",
    "\n",
    "N = 240\n",
    "H = 6*N\n",
    "\n",
    "ChuExample = {\n",
    "    'TIME': np.linspace(0,H,N+1),\n",
    "    'STATES': {\n",
    "        'M1': {'capacity': 500, 'initial': 500, 'price': 0},\n",
    "        'M2': {'capacity': 500, 'initial': 500, 'price': 0},\n",
    "        'M3': {'capacity': 500, 'initial': 500, 'price': 0},\n",
    "        'M4': {'capacity': 500, 'initial': 500, 'price': 0},\n",
    "        'I1': {'capacity': 100, 'initial':   0, 'price': 0},\n",
    "        'I2': {'capacity': 100, 'initial':   0, 'price': 0},\n",
    "        'I3': {'capacity': 100, 'initial':   0, 'price': 0},\n",
    "        'I4': {'capacity': 100, 'initial':   0, 'price': 0},\n",
    "        'I5': {'capacity': 100, 'initial':   0, 'price': 0},\n",
    "        'I6': {'capacity': 100, 'initial':   0, 'price': 0},\n",
    "        'P1': {'capacity': 500, 'initial':   0, 'price': 0},\n",
    "        'P2': {'capacity': 500, 'initial':   0, 'price': 0},\n",
    "        'P3': {'capacity': 500, 'initial':   0, 'price': 0},\n",
    "        'P4': {'capacity': 500, 'initial':   0, 'price': 0},\n",
    "    },\n",
    "    'ST_ARCS': {\n",
    "        ('M1', 'Reaction_1') : {'rho': 0.8},\n",
    "        ('M2', 'RM Prep')    : {'rho': 0.5},\n",
    "        ('M3', 'RM Prep')    : {'rho': 0.5},\n",
    "        ('M4', 'Reaction_2') : {'rho': 0.7},\n",
    "        ('I1', 'Reaction_1') : {'rho': 0.2},\n",
    "        ('I1', 'Reaction_2') : {'rho': 0.3},\n",
    "        ('I1', 'Reaction_3') : {'rho': 0.4},\n",
    "        ('I2', 'Reaction_3') : {'rho': 0.6},\n",
    "        ('I3', 'Packing_1')  : {'rho': 1.0},\n",
    "        ('I4', 'Packing_2')  : {'rho': 1.0},\n",
    "        ('I5', 'Drum_1')     : {'rho': 1.0},\n",
    "        ('I6', 'Drum_2')     : {'rho': 1.0},\n",
    "    },\n",
    "    'TS_ARCS': {\n",
    "        ('RM Prep', 'I1')    : {'rho': 1.0, 'dur':  72},\n",
    "        ('Reaction_1', 'I3') : {'rho': 1.0, 'dur': 162},\n",
    "        ('Reaction_2', 'I2') : {'rho': 1.0, 'dur': 138},\n",
    "        ('Reaction_3', 'I4') : {'rho': 1.0, 'dur': 162},\n",
    "        ('Packing_1', 'P1')  : {'rho': 0.5, 'dur': 108},\n",
    "        ('Packing_1', 'I5')  : {'rho': 0.5, 'dur': 108},\n",
    "        ('Packing_2', 'I6')  : {'rho': 0.5, 'dur': 108},\n",
    "        ('Packing_2', 'P4')  : {'rho': 0.5, 'dur': 108},\n",
    "        ('Drum_1', 'P2')     : {'rho': 1.0, 'dur':  90},\n",
    "        ('Drum_2', 'P3')     : {'rho': 1.0, 'dur':  90},\n",
    "    },\n",
    "    'UNIT_TASKS' : {\n",
    "        ('RM Prep','RM Prep')       : {'Bmin': 0, 'Bmax': 100, 'Cost': 1000, 'vCost':  50, 'Tclean': 0},\n",
    "        ('Reactor_1', 'Reaction_1') : {'Bmin': 0, 'Bmax':  80, 'Cost': 3000, 'vCost': 250, 'Tclean': 0},\n",
    "        ('Reactor_1', 'Reaction_2') : {'Bmin': 0, 'Bmax':  50, 'Cost': 1500, 'vCost': 150, 'Tclean': 0},\n",
    "        ('Reactor_1', 'Reaction_3') : {'Bmin': 0, 'Bmax':  80, 'Cost': 2000, 'vCost': 100, 'Tclean': 0},\n",
    "        ('Reactor_2', 'Reaction_1') : {'Bmin': 0, 'Bmax':  80, 'Cost': 3000, 'vCost': 250, 'Tclean': 0},\n",
    "        ('Reactor_2', 'Reaction_2') : {'Bmin': 0, 'Bmax':  50, 'Cost': 1500, 'vCost': 150, 'Tclean': 0},\n",
    "        ('Reactor_2', 'Reaction_3') : {'Bmin': 0, 'Bmax':  80, 'Cost': 2000, 'vCost': 100, 'Tclean': 0},\n",
    "        ('Finishing', 'Packing_1')  : {'Bmin': 0, 'Bmax': 100, 'Cost':  500, 'vCost':  20, 'Tclean': 0},\n",
    "        ('Finishing', 'Packing_2')  : {'Bmin': 0, 'Bmax': 100, 'Cost':  500, 'vCost':  20, 'Tclean': 0},\n",
    "        ('Drumming', 'Drum_1')      : {'Bmin': 0, 'Bmax':  50, 'Cost':  200, 'vCost':  50, 'Tclean': 0},\n",
    "        ('Drumming', 'Drum_2')      : {'Bmin': 0, 'Bmax':  50, 'Cost':  200, 'vCost':  50, 'Tclean': 0},        \n",
    "    },\n",
    "    'TURNAROUND' : {\n",
    "        ('Reaction_1', 'Reaction_1') : 12,\n",
    "        ('Reaction_1', 'Reaction_2') : 30,\n",
    "        ('Reaction_1', 'Reaction_3') : 30,\n",
    "        ('Reaction_2', 'Reaction_1') : 30,\n",
    "        ('Reaction_2', 'Reaction_2') : 12,\n",
    "        ('Reaction_2', 'Reaction_3') :  6,\n",
    "        ('Reaction_3', 'Reaction_1') : 30,\n",
    "        ('Reaction_3', 'Reaction_2') : 30,\n",
    "        ('Reaction_3', 'Reaction_3') : 12,\n",
    "        ('Packing_1', 'Packing_1')   : 0,\n",
    "        ('Packing_1', 'Packing_2')   : 6,\n",
    "        ('Packing_2', 'Packing_1')   : 6,\n",
    "        ('Packing_1', 'Packing_1')   : 0,\n",
    "    },\n",
    "    'PRODUCTION' : {\n",
    "        ('P1',H) : 200,\n",
    "        ('P2',H) : 200,\n",
    "        ('P3',H) : 100,\n",
    "        ('P4',H) : 100,\n",
    "    }\n",
    "}"
   ]
  },
  {
   "cell_type": "code",
   "execution_count": null,
   "metadata": {
    "collapsed": true,
    "deletable": true,
    "editable": true
   },
   "outputs": [],
   "source": []
  }
 ],
 "metadata": {
  "kernelspec": {
   "display_name": "Python 3",
   "language": "python",
   "name": "python3"
  },
  "language_info": {
   "codemirror_mode": {
    "name": "ipython",
    "version": 3
   },
   "file_extension": ".py",
   "mimetype": "text/x-python",
   "name": "python",
   "nbconvert_exporter": "python",
   "pygments_lexer": "ipython3",
   "version": "3.6.1"
  }
 },
 "nbformat": 4,
 "nbformat_minor": 2
}
