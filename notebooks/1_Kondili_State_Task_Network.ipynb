{
 "cells": [
  {
   "cell_type": "markdown",
   "metadata": {
    "deletable": true,
    "editable": true
   },
   "source": [
    "# State Task Network (Kondili and Sargent, 1993)\n",
    "\n",
    "A state-task network is a graphical representation of the activities in a multiproduct batch process. The representation includes the details needed for the short term scheduling of batch operations. A typical and well-studied example due to Kondili (1993) is shown below.\n",
    "\n",
    "<img src = \"images/Kondili_1993.png\"></img>\n",
    "\n",
    "Each circular node in the diagram designates material in a particular state.  The materials are generally held in suitable vessels with a known capacity. The relevant information for each state is the initial inventory, storage capacity, and the unit price of the material in each state. The price of materials in intermediate states may be assigned penalities in order to minimize the amount of work in progress.\n",
    "\n",
    "The rectangular nodes denote process tasks. When scheduled for execution, each task is assigned an appropriate piece of equipment, and assigned a batch of material according to the incoming arcs. Each incoming arc begins at a state where the associated label indicates the mass fraction of the batch coming from that particular state. Outgoing arcs indicate the disposition of the batch to product states. The outgoing are labels indicate the fraction of the batch assigned to each product state, and the time necessary to produce that product. \n",
    "\n",
    "Not shown in the diagram is the process equipment used to execute the tasks. A separate list of process units is available, each characterized by a capacity and list of tasks which can be performed in that unit."
   ]
  },
  {
   "cell_type": "code",
   "execution_count": 1,
   "metadata": {
    "collapsed": false,
    "deletable": true,
    "editable": true
   },
   "outputs": [
    {
     "name": "stdout",
     "output_type": "stream",
     "text": [
      "# ==========================================================\n",
      "# = Solver Results                                         =\n",
      "# ==========================================================\n",
      "# ----------------------------------------------------------\n",
      "#   Problem Information\n",
      "# ----------------------------------------------------------\n",
      "Problem: \n",
      "- Name: unknown\n",
      "  Lower bound: 2833.75\n",
      "  Upper bound: 2833.75\n",
      "  Number of objectives: 1\n",
      "  Number of constraints: 409\n",
      "  Number of variables: 321\n",
      "  Number of nonzeros: 1153\n",
      "  Sense: maximize\n",
      "# ----------------------------------------------------------\n",
      "#   Solver Information\n",
      "# ----------------------------------------------------------\n",
      "Solver: \n",
      "- Status: ok\n",
      "  Termination condition: optimal\n",
      "  Statistics: \n",
      "    Branch and bound: \n",
      "      Number of bounded subproblems: 353\n",
      "      Number of created subproblems: 353\n",
      "  Error rc: 0\n",
      "  Time: 0.16594696044921875\n",
      "# ----------------------------------------------------------\n",
      "#   Solution Information\n",
      "# ----------------------------------------------------------\n",
      "Solution: \n",
      "- number of solutions: 0\n",
      "  number of solutions displayed: 0\n"
     ]
    },
    {
     "ename": "NameError",
     "evalue": "name 'plt' is not defined",
     "output_type": "error",
     "traceback": [
      "\u001b[0;31m---------------------------------------------------------------------------\u001b[0m",
      "\u001b[0;31mNameError\u001b[0m                                 Traceback (most recent call last)",
      "\u001b[0;32m<ipython-input-1-0971bdd27e74>\u001b[0m in \u001b[0;36m<module>\u001b[0;34m()\u001b[0m\n\u001b[1;32m     43\u001b[0m \u001b[0mm\u001b[0m\u001b[0;34m.\u001b[0m\u001b[0mbuildmodel\u001b[0m\u001b[0;34m(\u001b[0m\u001b[0;34m)\u001b[0m\u001b[0;34m\u001b[0m\u001b[0m\n\u001b[1;32m     44\u001b[0m \u001b[0mm\u001b[0m\u001b[0;34m.\u001b[0m\u001b[0msolve\u001b[0m\u001b[0;34m(\u001b[0m\u001b[0;34m)\u001b[0m\u001b[0;34m\u001b[0m\u001b[0m\n\u001b[0;32m---> 45\u001b[0;31m \u001b[0mm\u001b[0m\u001b[0;34m.\u001b[0m\u001b[0mgantt\u001b[0m\u001b[0;34m(\u001b[0m\u001b[0;34m)\u001b[0m\u001b[0;34m\u001b[0m\u001b[0m\n\u001b[0m\u001b[1;32m     46\u001b[0m \u001b[0;31m#m.model.pprint()\u001b[0m\u001b[0;34m\u001b[0m\u001b[0;34m\u001b[0m\u001b[0m\n",
      "\u001b[0;32m/Users/jeff/Dropbox/Git/STN-Scheduler/STN/STN.py\u001b[0m in \u001b[0;36mgantt\u001b[0;34m(self)\u001b[0m\n\u001b[1;32m    204\u001b[0m         \u001b[0mI\u001b[0m \u001b[0;34m=\u001b[0m \u001b[0mself\u001b[0m\u001b[0;34m.\u001b[0m\u001b[0mI\u001b[0m\u001b[0;34m\u001b[0m\u001b[0m\n\u001b[1;32m    205\u001b[0m         \u001b[0mp\u001b[0m \u001b[0;34m=\u001b[0m \u001b[0mself\u001b[0m\u001b[0;34m.\u001b[0m\u001b[0mp\u001b[0m\u001b[0;34m\u001b[0m\u001b[0m\n\u001b[0;32m--> 206\u001b[0;31m         \u001b[0mplt\u001b[0m\u001b[0;34m.\u001b[0m\u001b[0mfigure\u001b[0m\u001b[0;34m(\u001b[0m\u001b[0mfigsize\u001b[0m\u001b[0;34m=\u001b[0m\u001b[0;34m(\u001b[0m\u001b[0;36m12\u001b[0m\u001b[0;34m,\u001b[0m\u001b[0;36m6\u001b[0m\u001b[0;34m)\u001b[0m\u001b[0;34m)\u001b[0m\u001b[0;34m\u001b[0m\u001b[0m\n\u001b[0m\u001b[1;32m    207\u001b[0m \u001b[0;34m\u001b[0m\u001b[0m\n\u001b[1;32m    208\u001b[0m         \u001b[0mgap\u001b[0m \u001b[0;34m=\u001b[0m \u001b[0mH\u001b[0m\u001b[0;34m/\u001b[0m\u001b[0;36m400\u001b[0m\u001b[0;34m\u001b[0m\u001b[0m\n",
      "\u001b[0;31mNameError\u001b[0m: name 'plt' is not defined"
     ]
    }
   ],
   "source": [
    "import sys\n",
    "sys.path.append('../STN')\n",
    "from STN import STN\n",
    "\n",
    "# create instance\n",
    "stn = STN()\n",
    "\n",
    "# states\n",
    "stn.state(\"FeedA\", init = 200)\n",
    "stn.state(\"FeedB\", init = 200)\n",
    "stn.state(\"FeedC\", init = 200)\n",
    "stn.state(\"IntBC\")\n",
    "stn.state(\"Product_1\", price = 10)\n",
    "stn.state(\"Product_2\", price = 10)\n",
    "\n",
    "\n",
    "stn.STarc(\"FeedA\", \"Heating\")\n",
    "stn.STarc(\"FeedB\", \"Reaction_1\", rho = 0.5)\n",
    "stn.STarc(\"FeedC\", \"Reaction_1\", rho = 0.5)\n",
    "stn.STarc(\"FeedC\", \"Reaction_3\", rho = 0.2)\n",
    "stn.STarc(\"HotA\", \"Reaction_2\", rho = 0.4)\n",
    "stn.STarc(\"IntAB\", \"Reaction_3\", rho = 0.8)\n",
    "stn.STarc(\"IntBC\", \"Reaction_2\", rho = 0.6)\n",
    "stn.STarc(\"ImpureE\", \"Separation\")\n",
    "\n",
    "# task to state arcs\n",
    "stn.TSarc(\"Heating\", \"HotA\", 1, 1)\n",
    "stn.TSarc(\"Reaction_2\", \"IntAB\", rho=0.6, dur=2)\n",
    "stn.TSarc(\"Reaction_2\", \"Product_1\", rho=0.4, dur=2)\n",
    "stn.TSarc(\"Reaction_1\", \"IntBC\", dur=2)\n",
    "stn.TSarc(\"Reaction_3\", \"ImpureE\", dur=1)\n",
    "stn.TSarc(\"Separation\", \"IntAB\", rho=0.1, dur=2)\n",
    "stn.TSarc(\"Separation\", \"Product_2\", rho=0.9, dur=1)\n",
    "\n",
    "# unit-task data\n",
    "stn.Unit(\"Heater\", \"Heating\", 0, 100)\n",
    "stn.Unit(\"Reactor_1\", \"Reaction_1\", 0, 80)\n",
    "stn.Unit(\"Reactor_1\", \"Reaction_2\", 0, 80)\n",
    "stn.Unit(\"Reactor_1\", \"Reaction_3\", 0, 80)\n",
    "stn.Unit(\"Reactor_2\", \"Reaction_1\", 0, 50)\n",
    "stn.Unit(\"Reactor_2\", \"Reaction_2\", 0, 50)\n",
    "stn.Unit(\"Reactor_2\", \"Reaction_3\", 0, 50)\n",
    "stn.Unit(\"Still\", \"Separation\", 0, 200)\n",
    "\n",
    "stn.buildmodel()\n",
    "stn.solve()\n",
    "stn.gantt()"
   ]
  },
  {
   "cell_type": "code",
   "execution_count": null,
   "metadata": {
    "collapsed": true,
    "deletable": true,
    "editable": true
   },
   "outputs": [],
   "source": []
  }
 ],
 "metadata": {
  "kernelspec": {
   "display_name": "Python 3",
   "language": "python",
   "name": "python3"
  },
  "language_info": {
   "codemirror_mode": {
    "name": "ipython",
    "version": 3
   },
   "file_extension": ".py",
   "mimetype": "text/x-python",
   "name": "python",
   "nbconvert_exporter": "python",
   "pygments_lexer": "ipython3",
   "version": "3.6.1"
  }
 },
 "nbformat": 4,
 "nbformat_minor": 2
}
