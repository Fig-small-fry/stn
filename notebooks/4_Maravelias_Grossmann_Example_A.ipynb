{
 "cells": [
  {
   "cell_type": "markdown",
   "metadata": {},
   "source": [
    "# Example from Maravelias and Grossmann, 2003\n",
    "\n",
    "This is a tiny example in the appendix of a paper by Maravelias and Grossman, 2003. The example provides a simple demonstration of translating a STN diagram into the model that can be solved by the STN Scheduler."
   ]
  },
  {
   "cell_type": "code",
   "execution_count": 1,
   "metadata": {},
   "outputs": [
    {
     "data": {
      "image/png": "[encoded data removed]",
      "text/plain": [
       "<IPython.core.display.Image object>"
      ]
     },
     "execution_count": 1,
     "metadata": {},
     "output_type": "execute_result"
    }
   ],
   "source": [
    "from IPython.display import Image\n",
    "Image('../images/MarveliasGrossman2003a.png')"
   ]
  },
  {
   "cell_type": "markdown",
   "metadata": {},
   "source": [
    "### Problem Data\n",
    "\n",
    "| task/unit | duration (h) | max batch size (kg) |\n",
    "| :- | :-: | :-: |\n",
    "|heater/reactor | 1 | 10 |\n",
    "|R1/reactor 1 | 3 | 4 |\n",
    "|R2/reactor 2 | 1 | 2 |\n",
    "|sep/filter   | 2 | 10 |\n",
    "\n",
    "### Reference\n",
    "\n",
    "Maravelias, C. T., and Grossmann 2003). New General Continuous-Time State−Task Network Formulation for Short-Term Scheduling of Multipurpose Batch Plants. Industrial & Engineering Chemistry Research, 42 (13), 3056-3074."
   ]
  },
  {
   "cell_type": "code",
   "execution_count": 2,
   "metadata": {
    "collapsed": true
   },
   "outputs": [],
   "source": [
    "%matplotlib inline\n",
    "\n",
    "import sys\n",
    "sys.path.append('../STN')\n",
    "from STN import STN"
   ]
  },
  {
   "cell_type": "code",
   "execution_count": 3,
   "metadata": {},
   "outputs": [
    {
     "name": "stdout",
     "output_type": "stream",
     "text": [
      "# ==========================================================\n",
      "# = Solver Results                                         =\n",
      "# ==========================================================\n",
      "# ----------------------------------------------------------\n",
      "#   Problem Information\n",
      "# ----------------------------------------------------------\n",
      "Problem: \n",
      "- Name: unknown\n",
      "  Lower bound: 100.0\n",
      "  Upper bound: 100.0\n",
      "  Number of objectives: 1\n",
      "  Number of constraints: 171\n",
      "  Number of variables: 115\n",
      "  Number of nonzeros: 363\n",
      "  Sense: maximize\n",
      "# ----------------------------------------------------------\n",
      "#   Solver Information\n",
      "# ----------------------------------------------------------\n",
      "Solver: \n",
      "- Status: ok\n",
      "  Termination condition: optimal\n",
      "  Statistics: \n",
      "    Branch and bound: \n",
      "      Number of bounded subproblems: 1\n",
      "      Number of created subproblems: 1\n",
      "  Error rc: 0\n",
      "  Time: 0.01275014877319336\n",
      "# ----------------------------------------------------------\n",
      "#   Solution Information\n",
      "# ----------------------------------------------------------\n",
      "Solution: \n",
      "- number of solutions: 0\n",
      "  number of solutions displayed: 0\n"
     ]
    }
   ],
   "source": [
    "# create an empty STN instance\n",
    "stn = STN()\n",
    "\n",
    "# enter any states where there are finite capacity constraints, \n",
    "# initial inventory, or with an associated price. In this problem\n",
    "# we're trying to maximize the production of product B, so we\n",
    "# an arbitrary value for B, and no price for any other state.\n",
    "stn.state('A', init = 100)\n",
    "stn.state('B', price = 10)\n",
    "\n",
    "# state -> task arcs\n",
    "stn.stArc('A', 'Heat')\n",
    "stn.stArc('hA', 'R1')\n",
    "stn.stArc('hA', 'R2')\n",
    "stn.stArc('IB', 'Sep')\n",
    "\n",
    "# task -> state arcs with durations\n",
    "stn.tsArc('Heat', 'hA', dur = 1)\n",
    "stn.tsArc('R1', 'IB', dur = 3)\n",
    "stn.tsArc('R2', 'IB', dur = 1)\n",
    "stn.tsArc('Sep', 'B', dur = 2)\n",
    "\n",
    "# unit listing tasks that can be preformmed and the capacity\n",
    "stn.unit('Heater', 'Heat', Bmax = 10)\n",
    "stn.unit('Reactor1', 'R1', Bmax = 4)\n",
    "stn.unit('Reactor2', 'R2', Bmax = 2)\n",
    "stn.unit('Filter', 'Sep', Bmax = 10)\n",
    "\n",
    "# choose a time horizon, then build and solve model\n",
    "H = 6\n",
    "stn.build(range(0,H+1))\n",
    "stn.solve()"
   ]
  },
  {
   "cell_type": "code",
   "execution_count": 4,
   "metadata": {},
   "outputs": [
    {
     "data": {
      "image/png": "[encoded data removed]",
      "text/plain": [
       "<matplotlib.figure.Figure at 0x11a3ba6a0>"
      ]
     },
     "metadata": {},
     "output_type": "display_data"
    }
   ],
   "source": [
    "stn.gantt()"
   ]
  },
  {
   "cell_type": "code",
   "execution_count": null,
   "metadata": {
    "collapsed": true
   },
   "outputs": [],
   "source": []
  }
 ],
 "metadata": {
  "kernelspec": {
   "display_name": "Python 3",
   "language": "python",
   "name": "python3"
  },
  "language_info": {
   "codemirror_mode": {
    "name": "ipython",
    "version": 3
   },
   "file_extension": ".py",
   "mimetype": "text/x-python",
   "name": "python",
   "nbconvert_exporter": "python",
   "pygments_lexer": "ipython3",
   "version": "3.6.1"
  }
 },
 "nbformat": 4,
 "nbformat_minor": 2
}
