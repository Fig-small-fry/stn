{
 "cells": [
  {
   "cell_type": "markdown",
   "metadata": {},
   "source": [
    "# Kondili State Task Network"
   ]
  },
  {
   "cell_type": "code",
   "execution_count": 1,
   "metadata": {
    "collapsed": false
   },
   "outputs": [
    {
     "name": "stdout",
     "output_type": "stream",
     "text": [
      "# ==========================================================\n",
      "# = Solver Results                                         =\n",
      "# ==========================================================\n",
      "# ----------------------------------------------------------\n",
      "#   Problem Information\n",
      "# ----------------------------------------------------------\n",
      "Problem: \n",
      "- Name: unknown\n",
      "  Lower bound: 2833.75\n",
      "  Upper bound: 2833.75\n",
      "  Number of objectives: 1\n",
      "  Number of constraints: 409\n",
      "  Number of variables: 321\n",
      "  Number of nonzeros: 1153\n",
      "  Sense: maximize\n",
      "# ----------------------------------------------------------\n",
      "#   Solver Information\n",
      "# ----------------------------------------------------------\n",
      "Solver: \n",
      "- Status: ok\n",
      "  Termination condition: optimal\n",
      "  Statistics: \n",
      "    Branch and bound: \n",
      "      Number of bounded subproblems: 353\n",
      "      Number of created subproblems: 353\n",
      "  Error rc: 0\n",
      "  Time: 0.16594696044921875\n",
      "# ----------------------------------------------------------\n",
      "#   Solution Information\n",
      "# ----------------------------------------------------------\n",
      "Solution: \n",
      "- number of solutions: 0\n",
      "  number of solutions displayed: 0\n"
     ]
    },
    {
     "ename": "NameError",
     "evalue": "name 'plt' is not defined",
     "output_type": "error",
     "traceback": [
      "\u001b[0;31m---------------------------------------------------------------------------\u001b[0m",
      "\u001b[0;31mNameError\u001b[0m                                 Traceback (most recent call last)",
      "\u001b[0;32m<ipython-input-1-0971bdd27e74>\u001b[0m in \u001b[0;36m<module>\u001b[0;34m()\u001b[0m\n\u001b[1;32m     43\u001b[0m \u001b[0mm\u001b[0m\u001b[0;34m.\u001b[0m\u001b[0mbuildmodel\u001b[0m\u001b[0;34m(\u001b[0m\u001b[0;34m)\u001b[0m\u001b[0;34m\u001b[0m\u001b[0m\n\u001b[1;32m     44\u001b[0m \u001b[0mm\u001b[0m\u001b[0;34m.\u001b[0m\u001b[0msolve\u001b[0m\u001b[0;34m(\u001b[0m\u001b[0;34m)\u001b[0m\u001b[0;34m\u001b[0m\u001b[0m\n\u001b[0;32m---> 45\u001b[0;31m \u001b[0mm\u001b[0m\u001b[0;34m.\u001b[0m\u001b[0mgantt\u001b[0m\u001b[0;34m(\u001b[0m\u001b[0;34m)\u001b[0m\u001b[0;34m\u001b[0m\u001b[0m\n\u001b[0m\u001b[1;32m     46\u001b[0m \u001b[0;31m#m.model.pprint()\u001b[0m\u001b[0;34m\u001b[0m\u001b[0;34m\u001b[0m\u001b[0m\n",
      "\u001b[0;32m/Users/jeff/Dropbox/Git/STN-Scheduler/STN/STN.py\u001b[0m in \u001b[0;36mgantt\u001b[0;34m(self)\u001b[0m\n\u001b[1;32m    204\u001b[0m         \u001b[0mI\u001b[0m \u001b[0;34m=\u001b[0m \u001b[0mself\u001b[0m\u001b[0;34m.\u001b[0m\u001b[0mI\u001b[0m\u001b[0;34m\u001b[0m\u001b[0m\n\u001b[1;32m    205\u001b[0m         \u001b[0mp\u001b[0m \u001b[0;34m=\u001b[0m \u001b[0mself\u001b[0m\u001b[0;34m.\u001b[0m\u001b[0mp\u001b[0m\u001b[0;34m\u001b[0m\u001b[0m\n\u001b[0;32m--> 206\u001b[0;31m         \u001b[0mplt\u001b[0m\u001b[0;34m.\u001b[0m\u001b[0mfigure\u001b[0m\u001b[0;34m(\u001b[0m\u001b[0mfigsize\u001b[0m\u001b[0;34m=\u001b[0m\u001b[0;34m(\u001b[0m\u001b[0;36m12\u001b[0m\u001b[0;34m,\u001b[0m\u001b[0;36m6\u001b[0m\u001b[0;34m)\u001b[0m\u001b[0;34m)\u001b[0m\u001b[0;34m\u001b[0m\u001b[0m\n\u001b[0m\u001b[1;32m    207\u001b[0m \u001b[0;34m\u001b[0m\u001b[0m\n\u001b[1;32m    208\u001b[0m         \u001b[0mgap\u001b[0m \u001b[0;34m=\u001b[0m \u001b[0mH\u001b[0m\u001b[0;34m/\u001b[0m\u001b[0;36m400\u001b[0m\u001b[0;34m\u001b[0m\u001b[0m\n",
      "\u001b[0;31mNameError\u001b[0m: name 'plt' is not defined"
     ]
    }
   ],
   "source": [
    "import sys\n",
    "sys.path.append('../STN')\n",
    "from STN import STN\n",
    "\n",
    "# create instance\n",
    "m = STN()\n",
    "\n",
    "# states\n",
    "m.state(\"FeedA\", init = 200)\n",
    "m.state(\"FeedB\", init = 200)\n",
    "m.state(\"FeedC\", init = 200)\n",
    "m.state(\"IntBC\")\n",
    "m.state(\"Product_1\", price = 10)\n",
    "m.state(\"Product_2\", price = 10)\n",
    "\n",
    "m.STarc(\"FeedA\", \"Heating\")\n",
    "m.STarc(\"FeedB\", \"Reaction_1\", rho = 0.5)\n",
    "m.STarc(\"FeedC\", \"Reaction_1\", rho = 0.5)\n",
    "m.STarc(\"FeedC\", \"Reaction_3\", rho = 0.2)\n",
    "m.STarc(\"HotA\", \"Reaction_2\", rho = 0.4)\n",
    "m.STarc(\"IntAB\", \"Reaction_3\", rho = 0.8)\n",
    "m.STarc(\"IntBC\", \"Reaction_2\", rho = 0.6)\n",
    "m.STarc(\"ImpureE\", \"Separation\")\n",
    "\n",
    "m.TSarc(\"Heating\", \"HotA\", 1, 1)\n",
    "m.TSarc(\"Reaction_2\", \"IntAB\", rho=0.6, dur=2)\n",
    "m.TSarc(\"Reaction_2\", \"Product_1\", rho=0.4, dur=2)\n",
    "m.TSarc(\"Reaction_1\", \"IntBC\", dur=2)\n",
    "m.TSarc(\"Reaction_3\", \"ImpureE\", dur=1)\n",
    "m.TSarc(\"Separation\", \"IntAB\", rho=0.1, dur=2)\n",
    "m.TSarc(\"Separation\", \"Product_2\", rho=0.9, dur=1)\n",
    "\n",
    "m.Unit(\"Heater\", \"Heating\", 0, 100)\n",
    "m.Unit(\"Reactor_1\", \"Reaction_1\", 0, 80)\n",
    "m.Unit(\"Reactor_1\", \"Reaction_2\", 0, 80)\n",
    "m.Unit(\"Reactor_1\", \"Reaction_3\", 0, 80)\n",
    "m.Unit(\"Reactor_2\", \"Reaction_1\", 0, 50)\n",
    "m.Unit(\"Reactor_2\", \"Reaction_2\", 0, 50)\n",
    "m.Unit(\"Reactor_2\", \"Reaction_3\", 0, 50)\n",
    "m.Unit(\"Still\", \"Separation\", 0, 200)\n",
    "\n",
    "# m.pprint()\n",
    "m.buildmodel()\n",
    "m.solve()\n",
    "m.gantt()\n",
    "#m.model.pprint()"
   ]
  },
  {
   "cell_type": "code",
   "execution_count": null,
   "metadata": {
    "collapsed": true
   },
   "outputs": [],
   "source": []
  }
 ],
 "metadata": {
  "kernelspec": {
   "display_name": "Python 3",
   "language": "python",
   "name": "python3"
  },
  "language_info": {
   "codemirror_mode": {
    "name": "ipython",
    "version": 3
   },
   "file_extension": ".py",
   "mimetype": "text/x-python",
   "name": "python",
   "nbconvert_exporter": "python",
   "pygments_lexer": "ipython3",
   "version": "3.6.1"
  }
 },
 "nbformat": 4,
 "nbformat_minor": 2
}
